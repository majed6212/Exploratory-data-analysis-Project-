{
  "nbformat": 4,
  "nbformat_minor": 0,
  "metadata": {
    "colab": {
      "name": "Medical Appointment No Shows.ipynb",
      "provenance": [],
      "collapsed_sections": []
    },
    "kernelspec": {
      "name": "python3",
      "display_name": "Python 3"
    },
    "language_info": {
      "name": "python"
    },
    "accelerator": "TPU"
  },
  "cells": [
    {
      "cell_type": "markdown",
      "metadata": {
        "id": "R6U9E4_C8Jny"
      },
      "source": [
        "#                       **Medical Appointment No Shows Project (EDA)**\n",
        "\n",
        "\n",
        "\n",
        "\n",
        "\n",
        "\n",
        "---"
      ]
    },
    {
      "cell_type": "markdown",
      "metadata": {
        "id": "PzZH16nPSa96"
      },
      "source": [
        "## Part 1"
      ]
    },
    {
      "cell_type": "markdown",
      "metadata": {
        "id": "eGtzf0R6AiU0"
      },
      "source": [
        "###**Overview**\n",
        "\n",
        "\n",
        "\n",
        "\n",
        "In this project, I am using a dataset called **Medical Appointment No Shows** \n",
        "which was collected from Kaggle website through this link:\n",
        "https://www.kaggle.com/joniarroba/noshowappointments\n",
        "\n",
        "The dataset is basically about the reason that prevents a patient from attending an appointment. the target value in this dataset is initially (\"No-show\") I will try to answer all questions that come to my mind such as:\n",
        "\n",
        "\n",
        "*   What are feature/s that affect most on attending the appointment?\n",
        "*   Does the difference time between the Scheduled Day feature and Appointment Day feature matter?\n",
        "*   Does Gender contribute to the game?\n",
        "\n",
        "\n",
        "\n",
        "###**Data Features details**\n",
        "\n",
        "\n",
        " 1. **PatientId**: Identification of a patient\n",
        "\n",
        " 2. **AppointmentID**: Identification of each appointment\n",
        "\n",
        " 3. **Gender**: Male or Female. Female is the greater proportion, women take way more care of their health in comparison to men.\n",
        "\n",
        " 4. **ScheduledDay**: The day someone called or registered the appointment, this is before the appointment of course.\n",
        "The day of the actual appointment, when they have to visit the doctor.\n",
        "\n",
        "\n",
        " 5. **AppointmentDay**: \n",
        "The day of the actual appointment, when they have to visit the doctor.\n",
        "\n",
        "\n",
        "\n",
        " 6. **Age**: How old is the patient.\n",
        "\n",
        " 7. **Neighbourhood**: Where the appointment takes place.\n",
        "\n",
        " 8. **Scholarship**: True or False. Observation, this is a broad topic, consider reading this article https://en.wikipedia.org/wiki/Bolsa_Fam%C3%ADlia (Brazilian educational and medical scholarship)\n",
        "\n",
        "9. **Hypertension**: True or False. Has high pressure?\n",
        "\n",
        "10. **Diabetes**: True or False.\n",
        "\n",
        "11. **Alcoholism**: True or False.\n",
        "\n",
        "11. **Handicap**: True or False.\n",
        "\n",
        "12. **SMS_received**: 1 or more messages sent to the patient.\n",
        "\n",
        "13. **No-show**: True or False. The target value which if we decide to model\n",
        "\n",
        "***Quick note:***\n",
        "\n",
        "The dataset timeline starts from the 10th of November 2015 to the 23rd of June 2016.\n",
        "\n",
        "\n",
        "---\n",
        "\n"
      ]
    },
    {
      "cell_type": "markdown",
      "metadata": {
        "id": "ElZZdqPpT5wJ"
      },
      "source": [
        "##Part 2 \n",
        "\n"
      ]
    },
    {
      "cell_type": "markdown",
      "metadata": {
        "id": "am2N4QR0U8Ly"
      },
      "source": [
        "###**Loading and Exploring the dataset**"
      ]
    },
    {
      "cell_type": "code",
      "metadata": {
        "id": "4EcBy3UcxaIl"
      },
      "source": [
        "import pandas as pd\n",
        "import matplotlib as plt\n",
        "import numpy as np\n",
        "import seaborn as sns\n",
        "pd.set_option(\"display.max_columns\", None)\n",
        "pd.set_option(\"display.max_rows\", None)\n",
        "import datetime\n",
        "from time import strftime\n",
        "import matplotlib.pyplot as plt\n",
        "%matplotlib inline\n",
        "from matplotlib import pylab\n",
        "sns.set_style(\"whitegrid\")"
      ],
      "execution_count": 4,
      "outputs": []
    },
    {
      "cell_type": "code",
      "metadata": {
        "id": "IEEVJZyK1gsG"
      },
      "source": [
        "df = pd.read_csv('/content/KaggleV2-May-2016.csv')"
      ],
      "execution_count": 53,
      "outputs": []
    },
    {
      "cell_type": "code",
      "metadata": {
        "colab": {
          "base_uri": "https://localhost:8080/",
          "height": 363
        },
        "id": "h82mu7GBA0tS",
        "outputId": "409f23b0-66bc-41e2-a946-0e9599661026"
      },
      "source": [
        "df.head(10)"
      ],
      "execution_count": 54,
      "outputs": [
        {
          "output_type": "execute_result",
          "data": {
            "text/html": [
              "<div>\n",
              "<style scoped>\n",
              "    .dataframe tbody tr th:only-of-type {\n",
              "        vertical-align: middle;\n",
              "    }\n",
              "\n",
              "    .dataframe tbody tr th {\n",
              "        vertical-align: top;\n",
              "    }\n",
              "\n",
              "    .dataframe thead th {\n",
              "        text-align: right;\n",
              "    }\n",
              "</style>\n",
              "<table border=\"1\" class=\"dataframe\">\n",
              "  <thead>\n",
              "    <tr style=\"text-align: right;\">\n",
              "      <th></th>\n",
              "      <th>PatientId</th>\n",
              "      <th>AppointmentID</th>\n",
              "      <th>Gender</th>\n",
              "      <th>ScheduledDay</th>\n",
              "      <th>AppointmentDay</th>\n",
              "      <th>Age</th>\n",
              "      <th>Neighbourhood</th>\n",
              "      <th>Scholarship</th>\n",
              "      <th>Hipertension</th>\n",
              "      <th>Diabetes</th>\n",
              "      <th>Alcoholism</th>\n",
              "      <th>Handcap</th>\n",
              "      <th>SMS_received</th>\n",
              "      <th>No-show</th>\n",
              "    </tr>\n",
              "  </thead>\n",
              "  <tbody>\n",
              "    <tr>\n",
              "      <th>0</th>\n",
              "      <td>2.987250e+13</td>\n",
              "      <td>5642903</td>\n",
              "      <td>F</td>\n",
              "      <td>2016-04-29T18:38:08Z</td>\n",
              "      <td>2016-04-29T00:00:00Z</td>\n",
              "      <td>62</td>\n",
              "      <td>JARDIM DA PENHA</td>\n",
              "      <td>0</td>\n",
              "      <td>1</td>\n",
              "      <td>0</td>\n",
              "      <td>0</td>\n",
              "      <td>0</td>\n",
              "      <td>0</td>\n",
              "      <td>No</td>\n",
              "    </tr>\n",
              "    <tr>\n",
              "      <th>1</th>\n",
              "      <td>5.589978e+14</td>\n",
              "      <td>5642503</td>\n",
              "      <td>M</td>\n",
              "      <td>2016-04-29T16:08:27Z</td>\n",
              "      <td>2016-04-29T00:00:00Z</td>\n",
              "      <td>56</td>\n",
              "      <td>JARDIM DA PENHA</td>\n",
              "      <td>0</td>\n",
              "      <td>0</td>\n",
              "      <td>0</td>\n",
              "      <td>0</td>\n",
              "      <td>0</td>\n",
              "      <td>0</td>\n",
              "      <td>No</td>\n",
              "    </tr>\n",
              "    <tr>\n",
              "      <th>2</th>\n",
              "      <td>4.262962e+12</td>\n",
              "      <td>5642549</td>\n",
              "      <td>F</td>\n",
              "      <td>2016-04-29T16:19:04Z</td>\n",
              "      <td>2016-04-29T00:00:00Z</td>\n",
              "      <td>62</td>\n",
              "      <td>MATA DA PRAIA</td>\n",
              "      <td>0</td>\n",
              "      <td>0</td>\n",
              "      <td>0</td>\n",
              "      <td>0</td>\n",
              "      <td>0</td>\n",
              "      <td>0</td>\n",
              "      <td>No</td>\n",
              "    </tr>\n",
              "    <tr>\n",
              "      <th>3</th>\n",
              "      <td>8.679512e+11</td>\n",
              "      <td>5642828</td>\n",
              "      <td>F</td>\n",
              "      <td>2016-04-29T17:29:31Z</td>\n",
              "      <td>2016-04-29T00:00:00Z</td>\n",
              "      <td>8</td>\n",
              "      <td>PONTAL DE CAMBURI</td>\n",
              "      <td>0</td>\n",
              "      <td>0</td>\n",
              "      <td>0</td>\n",
              "      <td>0</td>\n",
              "      <td>0</td>\n",
              "      <td>0</td>\n",
              "      <td>No</td>\n",
              "    </tr>\n",
              "    <tr>\n",
              "      <th>4</th>\n",
              "      <td>8.841186e+12</td>\n",
              "      <td>5642494</td>\n",
              "      <td>F</td>\n",
              "      <td>2016-04-29T16:07:23Z</td>\n",
              "      <td>2016-04-29T00:00:00Z</td>\n",
              "      <td>56</td>\n",
              "      <td>JARDIM DA PENHA</td>\n",
              "      <td>0</td>\n",
              "      <td>1</td>\n",
              "      <td>1</td>\n",
              "      <td>0</td>\n",
              "      <td>0</td>\n",
              "      <td>0</td>\n",
              "      <td>No</td>\n",
              "    </tr>\n",
              "    <tr>\n",
              "      <th>5</th>\n",
              "      <td>9.598513e+13</td>\n",
              "      <td>5626772</td>\n",
              "      <td>F</td>\n",
              "      <td>2016-04-27T08:36:51Z</td>\n",
              "      <td>2016-04-29T00:00:00Z</td>\n",
              "      <td>76</td>\n",
              "      <td>REPÚBLICA</td>\n",
              "      <td>0</td>\n",
              "      <td>1</td>\n",
              "      <td>0</td>\n",
              "      <td>0</td>\n",
              "      <td>0</td>\n",
              "      <td>0</td>\n",
              "      <td>No</td>\n",
              "    </tr>\n",
              "    <tr>\n",
              "      <th>6</th>\n",
              "      <td>7.336882e+14</td>\n",
              "      <td>5630279</td>\n",
              "      <td>F</td>\n",
              "      <td>2016-04-27T15:05:12Z</td>\n",
              "      <td>2016-04-29T00:00:00Z</td>\n",
              "      <td>23</td>\n",
              "      <td>GOIABEIRAS</td>\n",
              "      <td>0</td>\n",
              "      <td>0</td>\n",
              "      <td>0</td>\n",
              "      <td>0</td>\n",
              "      <td>0</td>\n",
              "      <td>0</td>\n",
              "      <td>Yes</td>\n",
              "    </tr>\n",
              "    <tr>\n",
              "      <th>7</th>\n",
              "      <td>3.449833e+12</td>\n",
              "      <td>5630575</td>\n",
              "      <td>F</td>\n",
              "      <td>2016-04-27T15:39:58Z</td>\n",
              "      <td>2016-04-29T00:00:00Z</td>\n",
              "      <td>39</td>\n",
              "      <td>GOIABEIRAS</td>\n",
              "      <td>0</td>\n",
              "      <td>0</td>\n",
              "      <td>0</td>\n",
              "      <td>0</td>\n",
              "      <td>0</td>\n",
              "      <td>0</td>\n",
              "      <td>Yes</td>\n",
              "    </tr>\n",
              "    <tr>\n",
              "      <th>8</th>\n",
              "      <td>5.639473e+13</td>\n",
              "      <td>5638447</td>\n",
              "      <td>F</td>\n",
              "      <td>2016-04-29T08:02:16Z</td>\n",
              "      <td>2016-04-29T00:00:00Z</td>\n",
              "      <td>21</td>\n",
              "      <td>ANDORINHAS</td>\n",
              "      <td>0</td>\n",
              "      <td>0</td>\n",
              "      <td>0</td>\n",
              "      <td>0</td>\n",
              "      <td>0</td>\n",
              "      <td>0</td>\n",
              "      <td>No</td>\n",
              "    </tr>\n",
              "    <tr>\n",
              "      <th>9</th>\n",
              "      <td>7.812456e+13</td>\n",
              "      <td>5629123</td>\n",
              "      <td>F</td>\n",
              "      <td>2016-04-27T12:48:25Z</td>\n",
              "      <td>2016-04-29T00:00:00Z</td>\n",
              "      <td>19</td>\n",
              "      <td>CONQUISTA</td>\n",
              "      <td>0</td>\n",
              "      <td>0</td>\n",
              "      <td>0</td>\n",
              "      <td>0</td>\n",
              "      <td>0</td>\n",
              "      <td>0</td>\n",
              "      <td>No</td>\n",
              "    </tr>\n",
              "  </tbody>\n",
              "</table>\n",
              "</div>"
            ],
            "text/plain": [
              "      PatientId  AppointmentID Gender          ScheduledDay  \\\n",
              "0  2.987250e+13        5642903      F  2016-04-29T18:38:08Z   \n",
              "1  5.589978e+14        5642503      M  2016-04-29T16:08:27Z   \n",
              "2  4.262962e+12        5642549      F  2016-04-29T16:19:04Z   \n",
              "3  8.679512e+11        5642828      F  2016-04-29T17:29:31Z   \n",
              "4  8.841186e+12        5642494      F  2016-04-29T16:07:23Z   \n",
              "5  9.598513e+13        5626772      F  2016-04-27T08:36:51Z   \n",
              "6  7.336882e+14        5630279      F  2016-04-27T15:05:12Z   \n",
              "7  3.449833e+12        5630575      F  2016-04-27T15:39:58Z   \n",
              "8  5.639473e+13        5638447      F  2016-04-29T08:02:16Z   \n",
              "9  7.812456e+13        5629123      F  2016-04-27T12:48:25Z   \n",
              "\n",
              "         AppointmentDay  Age      Neighbourhood  Scholarship  Hipertension  \\\n",
              "0  2016-04-29T00:00:00Z   62    JARDIM DA PENHA            0             1   \n",
              "1  2016-04-29T00:00:00Z   56    JARDIM DA PENHA            0             0   \n",
              "2  2016-04-29T00:00:00Z   62      MATA DA PRAIA            0             0   \n",
              "3  2016-04-29T00:00:00Z    8  PONTAL DE CAMBURI            0             0   \n",
              "4  2016-04-29T00:00:00Z   56    JARDIM DA PENHA            0             1   \n",
              "5  2016-04-29T00:00:00Z   76          REPÚBLICA            0             1   \n",
              "6  2016-04-29T00:00:00Z   23         GOIABEIRAS            0             0   \n",
              "7  2016-04-29T00:00:00Z   39         GOIABEIRAS            0             0   \n",
              "8  2016-04-29T00:00:00Z   21         ANDORINHAS            0             0   \n",
              "9  2016-04-29T00:00:00Z   19          CONQUISTA            0             0   \n",
              "\n",
              "   Diabetes  Alcoholism  Handcap  SMS_received No-show  \n",
              "0         0           0        0             0      No  \n",
              "1         0           0        0             0      No  \n",
              "2         0           0        0             0      No  \n",
              "3         0           0        0             0      No  \n",
              "4         1           0        0             0      No  \n",
              "5         0           0        0             0      No  \n",
              "6         0           0        0             0     Yes  \n",
              "7         0           0        0             0     Yes  \n",
              "8         0           0        0             0      No  \n",
              "9         0           0        0             0      No  "
            ]
          },
          "metadata": {},
          "execution_count": 54
        }
      ]
    },
    {
      "cell_type": "code",
      "metadata": {
        "colab": {
          "base_uri": "https://localhost:8080/"
        },
        "id": "_YgclCXMnG9-",
        "outputId": "eee3a931-9a2f-4aa0-c27a-552ea04d6118"
      },
      "source": [
        "df.shape"
      ],
      "execution_count": 55,
      "outputs": [
        {
          "output_type": "execute_result",
          "data": {
            "text/plain": [
              "(110527, 14)"
            ]
          },
          "metadata": {},
          "execution_count": 55
        }
      ]
    },
    {
      "cell_type": "code",
      "metadata": {
        "colab": {
          "base_uri": "https://localhost:8080/"
        },
        "id": "3PpDGUZgm9z8",
        "outputId": "0b61204d-51b1-4be7-9d12-eeb7d5ac7625"
      },
      "source": [
        "df.info()"
      ],
      "execution_count": 56,
      "outputs": [
        {
          "output_type": "stream",
          "name": "stdout",
          "text": [
            "<class 'pandas.core.frame.DataFrame'>\n",
            "RangeIndex: 110527 entries, 0 to 110526\n",
            "Data columns (total 14 columns):\n",
            " #   Column          Non-Null Count   Dtype  \n",
            "---  ------          --------------   -----  \n",
            " 0   PatientId       110527 non-null  float64\n",
            " 1   AppointmentID   110527 non-null  int64  \n",
            " 2   Gender          110527 non-null  object \n",
            " 3   ScheduledDay    110527 non-null  object \n",
            " 4   AppointmentDay  110527 non-null  object \n",
            " 5   Age             110527 non-null  int64  \n",
            " 6   Neighbourhood   110527 non-null  object \n",
            " 7   Scholarship     110527 non-null  int64  \n",
            " 8   Hipertension    110527 non-null  int64  \n",
            " 9   Diabetes        110527 non-null  int64  \n",
            " 10  Alcoholism      110527 non-null  int64  \n",
            " 11  Handcap         110527 non-null  int64  \n",
            " 12  SMS_received    110527 non-null  int64  \n",
            " 13  No-show         110527 non-null  object \n",
            "dtypes: float64(1), int64(8), object(5)\n",
            "memory usage: 11.8+ MB\n"
          ]
        }
      ]
    },
    {
      "cell_type": "code",
      "metadata": {
        "colab": {
          "base_uri": "https://localhost:8080/"
        },
        "id": "Tnl_vVSbnmTL",
        "outputId": "4668a232-580c-4ae7-b98b-c3b3fe502feb"
      },
      "source": [
        "df.isna().sum()"
      ],
      "execution_count": 57,
      "outputs": [
        {
          "output_type": "execute_result",
          "data": {
            "text/plain": [
              "PatientId         0\n",
              "AppointmentID     0\n",
              "Gender            0\n",
              "ScheduledDay      0\n",
              "AppointmentDay    0\n",
              "Age               0\n",
              "Neighbourhood     0\n",
              "Scholarship       0\n",
              "Hipertension      0\n",
              "Diabetes          0\n",
              "Alcoholism        0\n",
              "Handcap           0\n",
              "SMS_received      0\n",
              "No-show           0\n",
              "dtype: int64"
            ]
          },
          "metadata": {},
          "execution_count": 57
        }
      ]
    },
    {
      "cell_type": "markdown",
      "metadata": {
        "id": "iurmZneyu53E"
      },
      "source": [
        "- Convert (ScheduledDay, AppointmentDay) to a date only."
      ]
    },
    {
      "cell_type": "code",
      "metadata": {
        "id": "mv-urQfRujQa"
      },
      "source": [
        "df.ScheduledDay = pd.to_datetime(df.ScheduledDay).dt.date.astype('datetime64')\n",
        "df.AppointmentDay = pd.to_datetime(df.AppointmentDay).dt.date.astype('datetime64')"
      ],
      "execution_count": 58,
      "outputs": []
    },
    {
      "cell_type": "markdown",
      "metadata": {
        "id": "H2aev0HdKJyG"
      },
      "source": [
        "- Converting Gender values to Male and Female for better visulaization"
      ]
    },
    {
      "cell_type": "code",
      "metadata": {
        "id": "AbFobBoHKDiW"
      },
      "source": [
        "df['Gender'] = df.Gender.map({'M':'Male', 'F':'Female'})"
      ],
      "execution_count": 59,
      "outputs": []
    },
    {
      "cell_type": "markdown",
      "metadata": {
        "id": "SAkY7N6HvTcM"
      },
      "source": [
        "\n",
        "\n",
        "- Rename mis-spelled column names and use (Male, Female) instead of (M,F)."
      ]
    },
    {
      "cell_type": "code",
      "metadata": {
        "id": "CpOuKw_rvdrS"
      },
      "source": [
        "df = df.rename(columns={'Hipertension': 'Hypertension', 'Handcap': 'Handicap', 'SMS_received': 'SMSReceived', 'No-show': 'visit'})"
      ],
      "execution_count": 60,
      "outputs": []
    },
    {
      "cell_type": "markdown",
      "metadata": {
        "id": "gJ25vcytrd9N"
      },
      "source": [
        "- New column to calculate the time difference between registration of the appointement and the visit of the appointement"
      ]
    },
    {
      "cell_type": "code",
      "metadata": {
        "id": "cfCPSSFFlqsi",
        "colab": {
          "base_uri": "https://localhost:8080/",
          "height": 206
        },
        "outputId": "5fb5ecea-7e56-4164-a12c-f18a096d0c50"
      },
      "source": [
        "time_until_visit = df.AppointmentDay - df.ScheduledDay\n",
        "time_until_visit = time_until_visit.dt.days\n",
        "df.insert(5,\"time_until_visit\" , time_until_visit)\n",
        "df.head()"
      ],
      "execution_count": 61,
      "outputs": [
        {
          "output_type": "execute_result",
          "data": {
            "text/html": [
              "<div>\n",
              "<style scoped>\n",
              "    .dataframe tbody tr th:only-of-type {\n",
              "        vertical-align: middle;\n",
              "    }\n",
              "\n",
              "    .dataframe tbody tr th {\n",
              "        vertical-align: top;\n",
              "    }\n",
              "\n",
              "    .dataframe thead th {\n",
              "        text-align: right;\n",
              "    }\n",
              "</style>\n",
              "<table border=\"1\" class=\"dataframe\">\n",
              "  <thead>\n",
              "    <tr style=\"text-align: right;\">\n",
              "      <th></th>\n",
              "      <th>PatientId</th>\n",
              "      <th>AppointmentID</th>\n",
              "      <th>Gender</th>\n",
              "      <th>ScheduledDay</th>\n",
              "      <th>AppointmentDay</th>\n",
              "      <th>time_until_visit</th>\n",
              "      <th>Age</th>\n",
              "      <th>Neighbourhood</th>\n",
              "      <th>Scholarship</th>\n",
              "      <th>Hypertension</th>\n",
              "      <th>Diabetes</th>\n",
              "      <th>Alcoholism</th>\n",
              "      <th>Handicap</th>\n",
              "      <th>SMSReceived</th>\n",
              "      <th>visit</th>\n",
              "    </tr>\n",
              "  </thead>\n",
              "  <tbody>\n",
              "    <tr>\n",
              "      <th>0</th>\n",
              "      <td>2.987250e+13</td>\n",
              "      <td>5642903</td>\n",
              "      <td>Female</td>\n",
              "      <td>2016-04-29</td>\n",
              "      <td>2016-04-29</td>\n",
              "      <td>0</td>\n",
              "      <td>62</td>\n",
              "      <td>JARDIM DA PENHA</td>\n",
              "      <td>0</td>\n",
              "      <td>1</td>\n",
              "      <td>0</td>\n",
              "      <td>0</td>\n",
              "      <td>0</td>\n",
              "      <td>0</td>\n",
              "      <td>No</td>\n",
              "    </tr>\n",
              "    <tr>\n",
              "      <th>1</th>\n",
              "      <td>5.589978e+14</td>\n",
              "      <td>5642503</td>\n",
              "      <td>Male</td>\n",
              "      <td>2016-04-29</td>\n",
              "      <td>2016-04-29</td>\n",
              "      <td>0</td>\n",
              "      <td>56</td>\n",
              "      <td>JARDIM DA PENHA</td>\n",
              "      <td>0</td>\n",
              "      <td>0</td>\n",
              "      <td>0</td>\n",
              "      <td>0</td>\n",
              "      <td>0</td>\n",
              "      <td>0</td>\n",
              "      <td>No</td>\n",
              "    </tr>\n",
              "    <tr>\n",
              "      <th>2</th>\n",
              "      <td>4.262962e+12</td>\n",
              "      <td>5642549</td>\n",
              "      <td>Female</td>\n",
              "      <td>2016-04-29</td>\n",
              "      <td>2016-04-29</td>\n",
              "      <td>0</td>\n",
              "      <td>62</td>\n",
              "      <td>MATA DA PRAIA</td>\n",
              "      <td>0</td>\n",
              "      <td>0</td>\n",
              "      <td>0</td>\n",
              "      <td>0</td>\n",
              "      <td>0</td>\n",
              "      <td>0</td>\n",
              "      <td>No</td>\n",
              "    </tr>\n",
              "    <tr>\n",
              "      <th>3</th>\n",
              "      <td>8.679512e+11</td>\n",
              "      <td>5642828</td>\n",
              "      <td>Female</td>\n",
              "      <td>2016-04-29</td>\n",
              "      <td>2016-04-29</td>\n",
              "      <td>0</td>\n",
              "      <td>8</td>\n",
              "      <td>PONTAL DE CAMBURI</td>\n",
              "      <td>0</td>\n",
              "      <td>0</td>\n",
              "      <td>0</td>\n",
              "      <td>0</td>\n",
              "      <td>0</td>\n",
              "      <td>0</td>\n",
              "      <td>No</td>\n",
              "    </tr>\n",
              "    <tr>\n",
              "      <th>4</th>\n",
              "      <td>8.841186e+12</td>\n",
              "      <td>5642494</td>\n",
              "      <td>Female</td>\n",
              "      <td>2016-04-29</td>\n",
              "      <td>2016-04-29</td>\n",
              "      <td>0</td>\n",
              "      <td>56</td>\n",
              "      <td>JARDIM DA PENHA</td>\n",
              "      <td>0</td>\n",
              "      <td>1</td>\n",
              "      <td>1</td>\n",
              "      <td>0</td>\n",
              "      <td>0</td>\n",
              "      <td>0</td>\n",
              "      <td>No</td>\n",
              "    </tr>\n",
              "  </tbody>\n",
              "</table>\n",
              "</div>"
            ],
            "text/plain": [
              "      PatientId  AppointmentID  Gender ScheduledDay AppointmentDay  \\\n",
              "0  2.987250e+13        5642903  Female   2016-04-29     2016-04-29   \n",
              "1  5.589978e+14        5642503    Male   2016-04-29     2016-04-29   \n",
              "2  4.262962e+12        5642549  Female   2016-04-29     2016-04-29   \n",
              "3  8.679512e+11        5642828  Female   2016-04-29     2016-04-29   \n",
              "4  8.841186e+12        5642494  Female   2016-04-29     2016-04-29   \n",
              "\n",
              "   time_until_visit  Age      Neighbourhood  Scholarship  Hypertension  \\\n",
              "0                 0   62    JARDIM DA PENHA            0             1   \n",
              "1                 0   56    JARDIM DA PENHA            0             0   \n",
              "2                 0   62      MATA DA PRAIA            0             0   \n",
              "3                 0    8  PONTAL DE CAMBURI            0             0   \n",
              "4                 0   56    JARDIM DA PENHA            0             1   \n",
              "\n",
              "   Diabetes  Alcoholism  Handicap  SMSReceived visit  \n",
              "0         0           0         0            0    No  \n",
              "1         0           0         0            0    No  \n",
              "2         0           0         0            0    No  \n",
              "3         0           0         0            0    No  \n",
              "4         1           0         0            0    No  "
            ]
          },
          "metadata": {},
          "execution_count": 61
        }
      ]
    },
    {
      "cell_type": "markdown",
      "metadata": {
        "id": "8mIv0cuPNF9e"
      },
      "source": [
        "I will ignore the first 2 columns as they are just random values that could affect our analysis, also the neighbourhood column contains 88% of random neighbourhoods, finaly I extracted the time until a patient should visit for the appoentment, so will drop both **ScheduledDay** and **AppointmentDay** I think all of them will just add some more complexity. "
      ]
    },
    {
      "cell_type": "code",
      "metadata": {
        "colab": {
          "base_uri": "https://localhost:8080/",
          "height": 363
        },
        "id": "mo3v5s2yMSIs",
        "outputId": "be0e1010-a83a-40e6-c031-ae9c1be095c8"
      },
      "source": [
        "df.drop(['PatientId', 'AppointmentID', 'Neighbourhood', 'AppointmentDay', 'ScheduledDay'], axis='columns', inplace=True)\n",
        "df.head(10)"
      ],
      "execution_count": 62,
      "outputs": [
        {
          "output_type": "execute_result",
          "data": {
            "text/html": [
              "<div>\n",
              "<style scoped>\n",
              "    .dataframe tbody tr th:only-of-type {\n",
              "        vertical-align: middle;\n",
              "    }\n",
              "\n",
              "    .dataframe tbody tr th {\n",
              "        vertical-align: top;\n",
              "    }\n",
              "\n",
              "    .dataframe thead th {\n",
              "        text-align: right;\n",
              "    }\n",
              "</style>\n",
              "<table border=\"1\" class=\"dataframe\">\n",
              "  <thead>\n",
              "    <tr style=\"text-align: right;\">\n",
              "      <th></th>\n",
              "      <th>Gender</th>\n",
              "      <th>time_until_visit</th>\n",
              "      <th>Age</th>\n",
              "      <th>Scholarship</th>\n",
              "      <th>Hypertension</th>\n",
              "      <th>Diabetes</th>\n",
              "      <th>Alcoholism</th>\n",
              "      <th>Handicap</th>\n",
              "      <th>SMSReceived</th>\n",
              "      <th>visit</th>\n",
              "    </tr>\n",
              "  </thead>\n",
              "  <tbody>\n",
              "    <tr>\n",
              "      <th>0</th>\n",
              "      <td>Female</td>\n",
              "      <td>0</td>\n",
              "      <td>62</td>\n",
              "      <td>0</td>\n",
              "      <td>1</td>\n",
              "      <td>0</td>\n",
              "      <td>0</td>\n",
              "      <td>0</td>\n",
              "      <td>0</td>\n",
              "      <td>No</td>\n",
              "    </tr>\n",
              "    <tr>\n",
              "      <th>1</th>\n",
              "      <td>Male</td>\n",
              "      <td>0</td>\n",
              "      <td>56</td>\n",
              "      <td>0</td>\n",
              "      <td>0</td>\n",
              "      <td>0</td>\n",
              "      <td>0</td>\n",
              "      <td>0</td>\n",
              "      <td>0</td>\n",
              "      <td>No</td>\n",
              "    </tr>\n",
              "    <tr>\n",
              "      <th>2</th>\n",
              "      <td>Female</td>\n",
              "      <td>0</td>\n",
              "      <td>62</td>\n",
              "      <td>0</td>\n",
              "      <td>0</td>\n",
              "      <td>0</td>\n",
              "      <td>0</td>\n",
              "      <td>0</td>\n",
              "      <td>0</td>\n",
              "      <td>No</td>\n",
              "    </tr>\n",
              "    <tr>\n",
              "      <th>3</th>\n",
              "      <td>Female</td>\n",
              "      <td>0</td>\n",
              "      <td>8</td>\n",
              "      <td>0</td>\n",
              "      <td>0</td>\n",
              "      <td>0</td>\n",
              "      <td>0</td>\n",
              "      <td>0</td>\n",
              "      <td>0</td>\n",
              "      <td>No</td>\n",
              "    </tr>\n",
              "    <tr>\n",
              "      <th>4</th>\n",
              "      <td>Female</td>\n",
              "      <td>0</td>\n",
              "      <td>56</td>\n",
              "      <td>0</td>\n",
              "      <td>1</td>\n",
              "      <td>1</td>\n",
              "      <td>0</td>\n",
              "      <td>0</td>\n",
              "      <td>0</td>\n",
              "      <td>No</td>\n",
              "    </tr>\n",
              "    <tr>\n",
              "      <th>5</th>\n",
              "      <td>Female</td>\n",
              "      <td>2</td>\n",
              "      <td>76</td>\n",
              "      <td>0</td>\n",
              "      <td>1</td>\n",
              "      <td>0</td>\n",
              "      <td>0</td>\n",
              "      <td>0</td>\n",
              "      <td>0</td>\n",
              "      <td>No</td>\n",
              "    </tr>\n",
              "    <tr>\n",
              "      <th>6</th>\n",
              "      <td>Female</td>\n",
              "      <td>2</td>\n",
              "      <td>23</td>\n",
              "      <td>0</td>\n",
              "      <td>0</td>\n",
              "      <td>0</td>\n",
              "      <td>0</td>\n",
              "      <td>0</td>\n",
              "      <td>0</td>\n",
              "      <td>Yes</td>\n",
              "    </tr>\n",
              "    <tr>\n",
              "      <th>7</th>\n",
              "      <td>Female</td>\n",
              "      <td>2</td>\n",
              "      <td>39</td>\n",
              "      <td>0</td>\n",
              "      <td>0</td>\n",
              "      <td>0</td>\n",
              "      <td>0</td>\n",
              "      <td>0</td>\n",
              "      <td>0</td>\n",
              "      <td>Yes</td>\n",
              "    </tr>\n",
              "    <tr>\n",
              "      <th>8</th>\n",
              "      <td>Female</td>\n",
              "      <td>0</td>\n",
              "      <td>21</td>\n",
              "      <td>0</td>\n",
              "      <td>0</td>\n",
              "      <td>0</td>\n",
              "      <td>0</td>\n",
              "      <td>0</td>\n",
              "      <td>0</td>\n",
              "      <td>No</td>\n",
              "    </tr>\n",
              "    <tr>\n",
              "      <th>9</th>\n",
              "      <td>Female</td>\n",
              "      <td>2</td>\n",
              "      <td>19</td>\n",
              "      <td>0</td>\n",
              "      <td>0</td>\n",
              "      <td>0</td>\n",
              "      <td>0</td>\n",
              "      <td>0</td>\n",
              "      <td>0</td>\n",
              "      <td>No</td>\n",
              "    </tr>\n",
              "  </tbody>\n",
              "</table>\n",
              "</div>"
            ],
            "text/plain": [
              "   Gender  time_until_visit  Age  Scholarship  Hypertension  Diabetes  \\\n",
              "0  Female                 0   62            0             1         0   \n",
              "1    Male                 0   56            0             0         0   \n",
              "2  Female                 0   62            0             0         0   \n",
              "3  Female                 0    8            0             0         0   \n",
              "4  Female                 0   56            0             1         1   \n",
              "5  Female                 2   76            0             1         0   \n",
              "6  Female                 2   23            0             0         0   \n",
              "7  Female                 2   39            0             0         0   \n",
              "8  Female                 0   21            0             0         0   \n",
              "9  Female                 2   19            0             0         0   \n",
              "\n",
              "   Alcoholism  Handicap  SMSReceived visit  \n",
              "0           0         0            0    No  \n",
              "1           0         0            0    No  \n",
              "2           0         0            0    No  \n",
              "3           0         0            0    No  \n",
              "4           0         0            0    No  \n",
              "5           0         0            0    No  \n",
              "6           0         0            0   Yes  \n",
              "7           0         0            0   Yes  \n",
              "8           0         0            0    No  \n",
              "9           0         0            0    No  "
            ]
          },
          "metadata": {},
          "execution_count": 62
        }
      ]
    },
    {
      "cell_type": "code",
      "metadata": {
        "colab": {
          "base_uri": "https://localhost:8080/"
        },
        "id": "J0bICKL4ZPrg",
        "outputId": "d28c40d0-135e-4400-9ef5-fa31a79bb494"
      },
      "source": [
        "df.Gender.value_counts()"
      ],
      "execution_count": 63,
      "outputs": [
        {
          "output_type": "execute_result",
          "data": {
            "text/plain": [
              "Female    71840\n",
              "Male      38687\n",
              "Name: Gender, dtype: int64"
            ]
          },
          "metadata": {},
          "execution_count": 63
        }
      ]
    },
    {
      "cell_type": "markdown",
      "metadata": {
        "id": "BuYMM_3i7HyN"
      },
      "source": [
        "We can see that 65% of Gender are women and 35% are men."
      ]
    },
    {
      "cell_type": "code",
      "metadata": {
        "colab": {
          "base_uri": "https://localhost:8080/"
        },
        "id": "gVhnGevTZdOY",
        "outputId": "3d71f740-4985-4ab0-8d81-a2c33c3d3c16"
      },
      "source": [
        "df.visit.value_counts()"
      ],
      "execution_count": 64,
      "outputs": [
        {
          "output_type": "execute_result",
          "data": {
            "text/plain": [
              "No     88208\n",
              "Yes    22319\n",
              "Name: visit, dtype: int64"
            ]
          },
          "metadata": {},
          "execution_count": 64
        }
      ]
    },
    {
      "cell_type": "markdown",
      "metadata": {
        "id": "5_A3CXti7iye"
      },
      "source": [
        "Almost 80% didn't come to the appointement and 20% did come.. which indicates that we're dealing with imbalance target. "
      ]
    },
    {
      "cell_type": "code",
      "metadata": {
        "colab": {
          "base_uri": "https://localhost:8080/",
          "height": 112
        },
        "id": "uADFr-5nPfha",
        "outputId": "b7837227-251b-433b-8656-a67acb197c88"
      },
      "source": [
        "df[['visit', 'SMSReceived']].groupby(['visit'], as_index=False).sum().sort_values(by='visit', ascending=False)"
      ],
      "execution_count": 65,
      "outputs": [
        {
          "output_type": "execute_result",
          "data": {
            "text/html": [
              "<div>\n",
              "<style scoped>\n",
              "    .dataframe tbody tr th:only-of-type {\n",
              "        vertical-align: middle;\n",
              "    }\n",
              "\n",
              "    .dataframe tbody tr th {\n",
              "        vertical-align: top;\n",
              "    }\n",
              "\n",
              "    .dataframe thead th {\n",
              "        text-align: right;\n",
              "    }\n",
              "</style>\n",
              "<table border=\"1\" class=\"dataframe\">\n",
              "  <thead>\n",
              "    <tr style=\"text-align: right;\">\n",
              "      <th></th>\n",
              "      <th>visit</th>\n",
              "      <th>SMSReceived</th>\n",
              "    </tr>\n",
              "  </thead>\n",
              "  <tbody>\n",
              "    <tr>\n",
              "      <th>1</th>\n",
              "      <td>Yes</td>\n",
              "      <td>9784</td>\n",
              "    </tr>\n",
              "    <tr>\n",
              "      <th>0</th>\n",
              "      <td>No</td>\n",
              "      <td>25698</td>\n",
              "    </tr>\n",
              "  </tbody>\n",
              "</table>\n",
              "</div>"
            ],
            "text/plain": [
              "  visit  SMSReceived\n",
              "1   Yes         9784\n",
              "0    No        25698"
            ]
          },
          "metadata": {},
          "execution_count": 65
        }
      ]
    },
    {
      "cell_type": "code",
      "metadata": {
        "colab": {
          "base_uri": "https://localhost:8080/"
        },
        "id": "qOkoD7Vf-B0t",
        "outputId": "e66241ea-9551-438b-a156-601839a67cbb"
      },
      "source": [
        "df.Scholarship.value_counts()"
      ],
      "execution_count": 66,
      "outputs": [
        {
          "output_type": "execute_result",
          "data": {
            "text/plain": [
              "0    99666\n",
              "1    10861\n",
              "Name: Scholarship, dtype: int64"
            ]
          },
          "metadata": {},
          "execution_count": 66
        }
      ]
    },
    {
      "cell_type": "code",
      "metadata": {
        "colab": {
          "base_uri": "https://localhost:8080/",
          "height": 112
        },
        "id": "gJKXELJe8kgt",
        "outputId": "b3863055-d418-4008-bf95-a4d2c5305ae4"
      },
      "source": [
        "df[['visit', 'Scholarship']].groupby(['visit'], as_index=False).sum().sort_values(by='visit', ascending=False)"
      ],
      "execution_count": 67,
      "outputs": [
        {
          "output_type": "execute_result",
          "data": {
            "text/html": [
              "<div>\n",
              "<style scoped>\n",
              "    .dataframe tbody tr th:only-of-type {\n",
              "        vertical-align: middle;\n",
              "    }\n",
              "\n",
              "    .dataframe tbody tr th {\n",
              "        vertical-align: top;\n",
              "    }\n",
              "\n",
              "    .dataframe thead th {\n",
              "        text-align: right;\n",
              "    }\n",
              "</style>\n",
              "<table border=\"1\" class=\"dataframe\">\n",
              "  <thead>\n",
              "    <tr style=\"text-align: right;\">\n",
              "      <th></th>\n",
              "      <th>visit</th>\n",
              "      <th>Scholarship</th>\n",
              "    </tr>\n",
              "  </thead>\n",
              "  <tbody>\n",
              "    <tr>\n",
              "      <th>1</th>\n",
              "      <td>Yes</td>\n",
              "      <td>2578</td>\n",
              "    </tr>\n",
              "    <tr>\n",
              "      <th>0</th>\n",
              "      <td>No</td>\n",
              "      <td>8283</td>\n",
              "    </tr>\n",
              "  </tbody>\n",
              "</table>\n",
              "</div>"
            ],
            "text/plain": [
              "  visit  Scholarship\n",
              "1   Yes         2578\n",
              "0    No         8283"
            ]
          },
          "metadata": {},
          "execution_count": 67
        }
      ]
    },
    {
      "cell_type": "markdown",
      "metadata": {
        "id": "Xte0AaDo7gSU"
      },
      "source": [
        "- **Handicap:**\n",
        "\n",
        "In the dataset metadata it is said that the handicap feature should contain a boolean value. However, this feature assumes values from 0 to 4, probably indicating the handicap number for each patient. In this analysis, we will map to 1 any value higher than 0.\n",
        "\n"
      ]
    },
    {
      "cell_type": "code",
      "metadata": {
        "colab": {
          "base_uri": "https://localhost:8080/"
        },
        "id": "vlGq-zUT8AsZ",
        "outputId": "1f38aafc-5d3e-4e1f-eb4d-b55a64384bfc"
      },
      "source": [
        "df.Handicap = np.where(df['Handicap']>0, 1, 0)\n",
        "df.max()"
      ],
      "execution_count": 68,
      "outputs": [
        {
          "output_type": "execute_result",
          "data": {
            "text/plain": [
              "Gender              Male\n",
              "time_until_visit     179\n",
              "Age                  115\n",
              "Scholarship            1\n",
              "Hypertension           1\n",
              "Diabetes               1\n",
              "Alcoholism             1\n",
              "Handicap               1\n",
              "SMSReceived            1\n",
              "visit                Yes\n",
              "dtype: object"
            ]
          },
          "metadata": {},
          "execution_count": 68
        }
      ]
    },
    {
      "cell_type": "code",
      "metadata": {
        "colab": {
          "base_uri": "https://localhost:8080/"
        },
        "id": "a1CmmJuCXoK3",
        "outputId": "04fc3079-354e-439a-ac36-dc352168a6c2"
      },
      "source": [
        "df.Handicap.unique()"
      ],
      "execution_count": 69,
      "outputs": [
        {
          "output_type": "execute_result",
          "data": {
            "text/plain": [
              "array([0, 1])"
            ]
          },
          "metadata": {},
          "execution_count": 69
        }
      ]
    },
    {
      "cell_type": "markdown",
      "metadata": {
        "id": "NPnFQMgEMYKN"
      },
      "source": [
        "- **Time until visit:**\n",
        "\n",
        "from describe function we saw that the feature time_until_visit has a minmum value of (-6) for the difference between time of ScheduledDay and AppointmentDay... by logic it is a typo... lets first count any value less than zero and I will drop them too!"
      ]
    },
    {
      "cell_type": "code",
      "metadata": {
        "colab": {
          "base_uri": "https://localhost:8080/"
        },
        "id": "UI33NDUyMOAW",
        "outputId": "f4914faa-ed31-4623-ae22-e4d8e9f6ac46"
      },
      "source": [
        "df.time_until_visit[df.time_until_visit<0].count()"
      ],
      "execution_count": 70,
      "outputs": [
        {
          "output_type": "execute_result",
          "data": {
            "text/plain": [
              "5"
            ]
          },
          "metadata": {},
          "execution_count": 70
        }
      ]
    },
    {
      "cell_type": "code",
      "metadata": {
        "colab": {
          "base_uri": "https://localhost:8080/",
          "height": 206
        },
        "id": "icQ7s22bM1Oe",
        "outputId": "60138a17-36ca-449b-8694-a7fbd0bd1b11"
      },
      "source": [
        "df = df[df.time_until_visit >= 0]\n",
        "df.head()"
      ],
      "execution_count": 71,
      "outputs": [
        {
          "output_type": "execute_result",
          "data": {
            "text/html": [
              "<div>\n",
              "<style scoped>\n",
              "    .dataframe tbody tr th:only-of-type {\n",
              "        vertical-align: middle;\n",
              "    }\n",
              "\n",
              "    .dataframe tbody tr th {\n",
              "        vertical-align: top;\n",
              "    }\n",
              "\n",
              "    .dataframe thead th {\n",
              "        text-align: right;\n",
              "    }\n",
              "</style>\n",
              "<table border=\"1\" class=\"dataframe\">\n",
              "  <thead>\n",
              "    <tr style=\"text-align: right;\">\n",
              "      <th></th>\n",
              "      <th>Gender</th>\n",
              "      <th>time_until_visit</th>\n",
              "      <th>Age</th>\n",
              "      <th>Scholarship</th>\n",
              "      <th>Hypertension</th>\n",
              "      <th>Diabetes</th>\n",
              "      <th>Alcoholism</th>\n",
              "      <th>Handicap</th>\n",
              "      <th>SMSReceived</th>\n",
              "      <th>visit</th>\n",
              "    </tr>\n",
              "  </thead>\n",
              "  <tbody>\n",
              "    <tr>\n",
              "      <th>0</th>\n",
              "      <td>Female</td>\n",
              "      <td>0</td>\n",
              "      <td>62</td>\n",
              "      <td>0</td>\n",
              "      <td>1</td>\n",
              "      <td>0</td>\n",
              "      <td>0</td>\n",
              "      <td>0</td>\n",
              "      <td>0</td>\n",
              "      <td>No</td>\n",
              "    </tr>\n",
              "    <tr>\n",
              "      <th>1</th>\n",
              "      <td>Male</td>\n",
              "      <td>0</td>\n",
              "      <td>56</td>\n",
              "      <td>0</td>\n",
              "      <td>0</td>\n",
              "      <td>0</td>\n",
              "      <td>0</td>\n",
              "      <td>0</td>\n",
              "      <td>0</td>\n",
              "      <td>No</td>\n",
              "    </tr>\n",
              "    <tr>\n",
              "      <th>2</th>\n",
              "      <td>Female</td>\n",
              "      <td>0</td>\n",
              "      <td>62</td>\n",
              "      <td>0</td>\n",
              "      <td>0</td>\n",
              "      <td>0</td>\n",
              "      <td>0</td>\n",
              "      <td>0</td>\n",
              "      <td>0</td>\n",
              "      <td>No</td>\n",
              "    </tr>\n",
              "    <tr>\n",
              "      <th>3</th>\n",
              "      <td>Female</td>\n",
              "      <td>0</td>\n",
              "      <td>8</td>\n",
              "      <td>0</td>\n",
              "      <td>0</td>\n",
              "      <td>0</td>\n",
              "      <td>0</td>\n",
              "      <td>0</td>\n",
              "      <td>0</td>\n",
              "      <td>No</td>\n",
              "    </tr>\n",
              "    <tr>\n",
              "      <th>4</th>\n",
              "      <td>Female</td>\n",
              "      <td>0</td>\n",
              "      <td>56</td>\n",
              "      <td>0</td>\n",
              "      <td>1</td>\n",
              "      <td>1</td>\n",
              "      <td>0</td>\n",
              "      <td>0</td>\n",
              "      <td>0</td>\n",
              "      <td>No</td>\n",
              "    </tr>\n",
              "  </tbody>\n",
              "</table>\n",
              "</div>"
            ],
            "text/plain": [
              "   Gender  time_until_visit  Age  Scholarship  Hypertension  Diabetes  \\\n",
              "0  Female                 0   62            0             1         0   \n",
              "1    Male                 0   56            0             0         0   \n",
              "2  Female                 0   62            0             0         0   \n",
              "3  Female                 0    8            0             0         0   \n",
              "4  Female                 0   56            0             1         1   \n",
              "\n",
              "   Alcoholism  Handicap  SMSReceived visit  \n",
              "0           0         0            0    No  \n",
              "1           0         0            0    No  \n",
              "2           0         0            0    No  \n",
              "3           0         0            0    No  \n",
              "4           0         0            0    No  "
            ]
          },
          "metadata": {},
          "execution_count": 71
        }
      ]
    },
    {
      "cell_type": "code",
      "metadata": {
        "colab": {
          "base_uri": "https://localhost:8080/",
          "height": 175
        },
        "id": "w5m69fbzPL1m",
        "outputId": "a84ae8a1-8dfb-4d58-9b35-d579e10fbd49"
      },
      "source": [
        "df.describe(include=['O'])"
      ],
      "execution_count": 72,
      "outputs": [
        {
          "output_type": "execute_result",
          "data": {
            "text/html": [
              "<div>\n",
              "<style scoped>\n",
              "    .dataframe tbody tr th:only-of-type {\n",
              "        vertical-align: middle;\n",
              "    }\n",
              "\n",
              "    .dataframe tbody tr th {\n",
              "        vertical-align: top;\n",
              "    }\n",
              "\n",
              "    .dataframe thead th {\n",
              "        text-align: right;\n",
              "    }\n",
              "</style>\n",
              "<table border=\"1\" class=\"dataframe\">\n",
              "  <thead>\n",
              "    <tr style=\"text-align: right;\">\n",
              "      <th></th>\n",
              "      <th>Gender</th>\n",
              "      <th>visit</th>\n",
              "    </tr>\n",
              "  </thead>\n",
              "  <tbody>\n",
              "    <tr>\n",
              "      <th>count</th>\n",
              "      <td>110522</td>\n",
              "      <td>110522</td>\n",
              "    </tr>\n",
              "    <tr>\n",
              "      <th>unique</th>\n",
              "      <td>2</td>\n",
              "      <td>2</td>\n",
              "    </tr>\n",
              "    <tr>\n",
              "      <th>top</th>\n",
              "      <td>Female</td>\n",
              "      <td>No</td>\n",
              "    </tr>\n",
              "    <tr>\n",
              "      <th>freq</th>\n",
              "      <td>71837</td>\n",
              "      <td>88208</td>\n",
              "    </tr>\n",
              "  </tbody>\n",
              "</table>\n",
              "</div>"
            ],
            "text/plain": [
              "        Gender   visit\n",
              "count   110522  110522\n",
              "unique       2       2\n",
              "top     Female      No\n",
              "freq     71837   88208"
            ]
          },
          "metadata": {},
          "execution_count": 72
        }
      ]
    },
    {
      "cell_type": "markdown",
      "metadata": {
        "id": "4ht8iT7azFfl"
      },
      "source": [
        "- **Age**: \n",
        "\n",
        "let's explore **Age** feature\n",
        "The age column has -1 which doesn't make sense... for 0 age I would think of babies that have few months more or less but do not reach one year yet.. I think it is a typo.. lets drop it."
      ]
    },
    {
      "cell_type": "code",
      "metadata": {
        "colab": {
          "base_uri": "https://localhost:8080/"
        },
        "id": "SDNEZXQ0lndF",
        "outputId": "6c529c5c-6ba2-45ae-ae54-d9d9b8ce38ec"
      },
      "source": [
        "df.Age[df.Age<=0].count()"
      ],
      "execution_count": 73,
      "outputs": [
        {
          "output_type": "execute_result",
          "data": {
            "text/plain": [
              "3540"
            ]
          },
          "metadata": {},
          "execution_count": 73
        }
      ]
    },
    {
      "cell_type": "code",
      "metadata": {
        "colab": {
          "base_uri": "https://localhost:8080/"
        },
        "id": "2XwJWijwnoaq",
        "outputId": "5b3acc24-39f8-4181-bad0-1e22a38a4567"
      },
      "source": [
        "df.Age[df.Age<0].count()"
      ],
      "execution_count": 74,
      "outputs": [
        {
          "output_type": "execute_result",
          "data": {
            "text/plain": [
              "1"
            ]
          },
          "metadata": {},
          "execution_count": 74
        }
      ]
    },
    {
      "cell_type": "code",
      "metadata": {
        "colab": {
          "base_uri": "https://localhost:8080/"
        },
        "id": "b_YgOAQSvKbP",
        "outputId": "2bdc0bb2-94f9-4218-c44b-2380ba058249"
      },
      "source": [
        "df.Age[df.Age > 110].count()"
      ],
      "execution_count": 75,
      "outputs": [
        {
          "output_type": "execute_result",
          "data": {
            "text/plain": [
              "5"
            ]
          },
          "metadata": {},
          "execution_count": 75
        }
      ]
    },
    {
      "cell_type": "code",
      "metadata": {
        "colab": {
          "base_uri": "https://localhost:8080/"
        },
        "id": "GFDaUdO6UA1s",
        "outputId": "0450bd91-f4d2-4a5d-af28-18d3cdc7641a"
      },
      "source": [
        "df.Age.max()"
      ],
      "execution_count": 76,
      "outputs": [
        {
          "output_type": "execute_result",
          "data": {
            "text/plain": [
              "115"
            ]
          },
          "metadata": {},
          "execution_count": 76
        }
      ]
    },
    {
      "cell_type": "markdown",
      "metadata": {
        "id": "rMLTQ2mGURVf"
      },
      "source": [
        "Age has an outlier value which is 115, since it is one value I will drop it for this project EDA ont modelling."
      ]
    },
    {
      "cell_type": "code",
      "metadata": {
        "colab": {
          "base_uri": "https://localhost:8080/",
          "height": 312
        },
        "id": "6Co-4_dMTST6",
        "outputId": "52328b2f-1e83-4350-868e-b651595362a3"
      },
      "source": [
        "plt.figure(figsize=(12,4));\n",
        "Age_plot = sns.boxplot(x = df.Age)\n",
        "Age_plot.set_title(\"Age box plot\")\n"
      ],
      "execution_count": 77,
      "outputs": [
        {
          "output_type": "execute_result",
          "data": {
            "text/plain": [
              "Text(0.5, 1.0, 'Age box plot')"
            ]
          },
          "metadata": {},
          "execution_count": 77
        },
        {
          "output_type": "display_data",
          "data": {
            "image/png": "[encoded data removed]",
            "text/plain": [
              "<Figure size 864x288 with 1 Axes>"
            ]
          },
          "metadata": {}
        }
      ]
    },
    {
      "cell_type": "code",
      "metadata": {
        "colab": {
          "base_uri": "https://localhost:8080/",
          "height": 206
        },
        "id": "zIiSLO1gB3QP",
        "outputId": "63002baf-12c2-4acd-8ff4-4149e2459873"
      },
      "source": [
        "df = df[df.Age >= 0]\n",
        "df = df[df.Age < 115]\n",
        "df.head()"
      ],
      "execution_count": 78,
      "outputs": [
        {
          "output_type": "execute_result",
          "data": {
            "text/html": [
              "<div>\n",
              "<style scoped>\n",
              "    .dataframe tbody tr th:only-of-type {\n",
              "        vertical-align: middle;\n",
              "    }\n",
              "\n",
              "    .dataframe tbody tr th {\n",
              "        vertical-align: top;\n",
              "    }\n",
              "\n",
              "    .dataframe thead th {\n",
              "        text-align: right;\n",
              "    }\n",
              "</style>\n",
              "<table border=\"1\" class=\"dataframe\">\n",
              "  <thead>\n",
              "    <tr style=\"text-align: right;\">\n",
              "      <th></th>\n",
              "      <th>Gender</th>\n",
              "      <th>time_until_visit</th>\n",
              "      <th>Age</th>\n",
              "      <th>Scholarship</th>\n",
              "      <th>Hypertension</th>\n",
              "      <th>Diabetes</th>\n",
              "      <th>Alcoholism</th>\n",
              "      <th>Handicap</th>\n",
              "      <th>SMSReceived</th>\n",
              "      <th>visit</th>\n",
              "    </tr>\n",
              "  </thead>\n",
              "  <tbody>\n",
              "    <tr>\n",
              "      <th>0</th>\n",
              "      <td>Female</td>\n",
              "      <td>0</td>\n",
              "      <td>62</td>\n",
              "      <td>0</td>\n",
              "      <td>1</td>\n",
              "      <td>0</td>\n",
              "      <td>0</td>\n",
              "      <td>0</td>\n",
              "      <td>0</td>\n",
              "      <td>No</td>\n",
              "    </tr>\n",
              "    <tr>\n",
              "      <th>1</th>\n",
              "      <td>Male</td>\n",
              "      <td>0</td>\n",
              "      <td>56</td>\n",
              "      <td>0</td>\n",
              "      <td>0</td>\n",
              "      <td>0</td>\n",
              "      <td>0</td>\n",
              "      <td>0</td>\n",
              "      <td>0</td>\n",
              "      <td>No</td>\n",
              "    </tr>\n",
              "    <tr>\n",
              "      <th>2</th>\n",
              "      <td>Female</td>\n",
              "      <td>0</td>\n",
              "      <td>62</td>\n",
              "      <td>0</td>\n",
              "      <td>0</td>\n",
              "      <td>0</td>\n",
              "      <td>0</td>\n",
              "      <td>0</td>\n",
              "      <td>0</td>\n",
              "      <td>No</td>\n",
              "    </tr>\n",
              "    <tr>\n",
              "      <th>3</th>\n",
              "      <td>Female</td>\n",
              "      <td>0</td>\n",
              "      <td>8</td>\n",
              "      <td>0</td>\n",
              "      <td>0</td>\n",
              "      <td>0</td>\n",
              "      <td>0</td>\n",
              "      <td>0</td>\n",
              "      <td>0</td>\n",
              "      <td>No</td>\n",
              "    </tr>\n",
              "    <tr>\n",
              "      <th>4</th>\n",
              "      <td>Female</td>\n",
              "      <td>0</td>\n",
              "      <td>56</td>\n",
              "      <td>0</td>\n",
              "      <td>1</td>\n",
              "      <td>1</td>\n",
              "      <td>0</td>\n",
              "      <td>0</td>\n",
              "      <td>0</td>\n",
              "      <td>No</td>\n",
              "    </tr>\n",
              "  </tbody>\n",
              "</table>\n",
              "</div>"
            ],
            "text/plain": [
              "   Gender  time_until_visit  Age  Scholarship  Hypertension  Diabetes  \\\n",
              "0  Female                 0   62            0             1         0   \n",
              "1    Male                 0   56            0             0         0   \n",
              "2  Female                 0   62            0             0         0   \n",
              "3  Female                 0    8            0             0         0   \n",
              "4  Female                 0   56            0             1         1   \n",
              "\n",
              "   Alcoholism  Handicap  SMSReceived visit  \n",
              "0           0         0            0    No  \n",
              "1           0         0            0    No  \n",
              "2           0         0            0    No  \n",
              "3           0         0            0    No  \n",
              "4           0         0            0    No  "
            ]
          },
          "metadata": {},
          "execution_count": 78
        }
      ]
    },
    {
      "cell_type": "markdown",
      "metadata": {
        "id": "vsYBbqyZ2Mex"
      },
      "source": [
        "**It doesn't make sense that babies have Hypertension or Diabetes or Alcoholism.. lets see**"
      ]
    },
    {
      "cell_type": "code",
      "metadata": {
        "colab": {
          "base_uri": "https://localhost:8080/",
          "height": 49
        },
        "id": "-7o_dtBn266i",
        "outputId": "e70d59d6-2cb6-4d9a-b8e5-38cf9cfc99d3"
      },
      "source": [
        "df[(df.Age <= 0) & ((df.Hypertension.astype(int) == 1) | (df.Diabetes.astype(int) == 1) | (df.Alcoholism.astype(int) == 1))]"
      ],
      "execution_count": 79,
      "outputs": [
        {
          "output_type": "execute_result",
          "data": {
            "text/html": [
              "<div>\n",
              "<style scoped>\n",
              "    .dataframe tbody tr th:only-of-type {\n",
              "        vertical-align: middle;\n",
              "    }\n",
              "\n",
              "    .dataframe tbody tr th {\n",
              "        vertical-align: top;\n",
              "    }\n",
              "\n",
              "    .dataframe thead th {\n",
              "        text-align: right;\n",
              "    }\n",
              "</style>\n",
              "<table border=\"1\" class=\"dataframe\">\n",
              "  <thead>\n",
              "    <tr style=\"text-align: right;\">\n",
              "      <th></th>\n",
              "      <th>Gender</th>\n",
              "      <th>time_until_visit</th>\n",
              "      <th>Age</th>\n",
              "      <th>Scholarship</th>\n",
              "      <th>Hypertension</th>\n",
              "      <th>Diabetes</th>\n",
              "      <th>Alcoholism</th>\n",
              "      <th>Handicap</th>\n",
              "      <th>SMSReceived</th>\n",
              "      <th>visit</th>\n",
              "    </tr>\n",
              "  </thead>\n",
              "  <tbody>\n",
              "  </tbody>\n",
              "</table>\n",
              "</div>"
            ],
            "text/plain": [
              "Empty DataFrame\n",
              "Columns: [Gender, time_until_visit, Age, Scholarship, Hypertension, Diabetes, Alcoholism, Handicap, SMSReceived, visit]\n",
              "Index: []"
            ]
          },
          "metadata": {},
          "execution_count": 79
        }
      ]
    },
    {
      "cell_type": "code",
      "metadata": {
        "colab": {
          "base_uri": "https://localhost:8080/",
          "height": 388
        },
        "id": "FsnevwhMc7X0",
        "outputId": "5029e91d-122a-47b3-ccdd-8851c6b39856"
      },
      "source": [
        "plt.figure(figsize=(12,6))\n",
        "sns.kdeplot(df['Age']);"
      ],
      "execution_count": 80,
      "outputs": [
        {
          "output_type": "display_data",
          "data": {
            "image/png": "[encoded data removed]",
            "text/plain": [
              "<Figure size 864x432 with 1 Axes>"
            ]
          },
          "metadata": {}
        }
      ]
    },
    {
      "cell_type": "code",
      "metadata": {
        "colab": {
          "base_uri": "https://localhost:8080/",
          "height": 300
        },
        "id": "nFeghxK-U3FX",
        "outputId": "059921ef-6fc9-4c90-8102-5eac2422e270"
      },
      "source": [
        "df.describe()"
      ],
      "execution_count": 81,
      "outputs": [
        {
          "output_type": "execute_result",
          "data": {
            "text/html": [
              "<div>\n",
              "<style scoped>\n",
              "    .dataframe tbody tr th:only-of-type {\n",
              "        vertical-align: middle;\n",
              "    }\n",
              "\n",
              "    .dataframe tbody tr th {\n",
              "        vertical-align: top;\n",
              "    }\n",
              "\n",
              "    .dataframe thead th {\n",
              "        text-align: right;\n",
              "    }\n",
              "</style>\n",
              "<table border=\"1\" class=\"dataframe\">\n",
              "  <thead>\n",
              "    <tr style=\"text-align: right;\">\n",
              "      <th></th>\n",
              "      <th>time_until_visit</th>\n",
              "      <th>Age</th>\n",
              "      <th>Scholarship</th>\n",
              "      <th>Hypertension</th>\n",
              "      <th>Diabetes</th>\n",
              "      <th>Alcoholism</th>\n",
              "      <th>Handicap</th>\n",
              "      <th>SMSReceived</th>\n",
              "    </tr>\n",
              "  </thead>\n",
              "  <tbody>\n",
              "    <tr>\n",
              "      <th>count</th>\n",
              "      <td>110516.000000</td>\n",
              "      <td>110516.000000</td>\n",
              "      <td>110516.000000</td>\n",
              "      <td>110516.000000</td>\n",
              "      <td>110516.000000</td>\n",
              "      <td>110516.000000</td>\n",
              "      <td>110516.000000</td>\n",
              "      <td>110516.000000</td>\n",
              "    </tr>\n",
              "    <tr>\n",
              "      <th>mean</th>\n",
              "      <td>10.184272</td>\n",
              "      <td>37.085861</td>\n",
              "      <td>0.098275</td>\n",
              "      <td>0.197257</td>\n",
              "      <td>0.071872</td>\n",
              "      <td>0.030403</td>\n",
              "      <td>0.020223</td>\n",
              "      <td>0.321049</td>\n",
              "    </tr>\n",
              "    <tr>\n",
              "      <th>std</th>\n",
              "      <td>15.255201</td>\n",
              "      <td>23.104465</td>\n",
              "      <td>0.297688</td>\n",
              "      <td>0.397929</td>\n",
              "      <td>0.258277</td>\n",
              "      <td>0.171694</td>\n",
              "      <td>0.140764</td>\n",
              "      <td>0.466882</td>\n",
              "    </tr>\n",
              "    <tr>\n",
              "      <th>min</th>\n",
              "      <td>0.000000</td>\n",
              "      <td>0.000000</td>\n",
              "      <td>0.000000</td>\n",
              "      <td>0.000000</td>\n",
              "      <td>0.000000</td>\n",
              "      <td>0.000000</td>\n",
              "      <td>0.000000</td>\n",
              "      <td>0.000000</td>\n",
              "    </tr>\n",
              "    <tr>\n",
              "      <th>25%</th>\n",
              "      <td>0.000000</td>\n",
              "      <td>18.000000</td>\n",
              "      <td>0.000000</td>\n",
              "      <td>0.000000</td>\n",
              "      <td>0.000000</td>\n",
              "      <td>0.000000</td>\n",
              "      <td>0.000000</td>\n",
              "      <td>0.000000</td>\n",
              "    </tr>\n",
              "    <tr>\n",
              "      <th>50%</th>\n",
              "      <td>4.000000</td>\n",
              "      <td>37.000000</td>\n",
              "      <td>0.000000</td>\n",
              "      <td>0.000000</td>\n",
              "      <td>0.000000</td>\n",
              "      <td>0.000000</td>\n",
              "      <td>0.000000</td>\n",
              "      <td>0.000000</td>\n",
              "    </tr>\n",
              "    <tr>\n",
              "      <th>75%</th>\n",
              "      <td>15.000000</td>\n",
              "      <td>55.000000</td>\n",
              "      <td>0.000000</td>\n",
              "      <td>0.000000</td>\n",
              "      <td>0.000000</td>\n",
              "      <td>0.000000</td>\n",
              "      <td>0.000000</td>\n",
              "      <td>1.000000</td>\n",
              "    </tr>\n",
              "    <tr>\n",
              "      <th>max</th>\n",
              "      <td>179.000000</td>\n",
              "      <td>102.000000</td>\n",
              "      <td>1.000000</td>\n",
              "      <td>1.000000</td>\n",
              "      <td>1.000000</td>\n",
              "      <td>1.000000</td>\n",
              "      <td>1.000000</td>\n",
              "      <td>1.000000</td>\n",
              "    </tr>\n",
              "  </tbody>\n",
              "</table>\n",
              "</div>"
            ],
            "text/plain": [
              "       time_until_visit            Age    Scholarship   Hypertension  \\\n",
              "count     110516.000000  110516.000000  110516.000000  110516.000000   \n",
              "mean          10.184272      37.085861       0.098275       0.197257   \n",
              "std           15.255201      23.104465       0.297688       0.397929   \n",
              "min            0.000000       0.000000       0.000000       0.000000   \n",
              "25%            0.000000      18.000000       0.000000       0.000000   \n",
              "50%            4.000000      37.000000       0.000000       0.000000   \n",
              "75%           15.000000      55.000000       0.000000       0.000000   \n",
              "max          179.000000     102.000000       1.000000       1.000000   \n",
              "\n",
              "            Diabetes     Alcoholism       Handicap    SMSReceived  \n",
              "count  110516.000000  110516.000000  110516.000000  110516.000000  \n",
              "mean        0.071872       0.030403       0.020223       0.321049  \n",
              "std         0.258277       0.171694       0.140764       0.466882  \n",
              "min         0.000000       0.000000       0.000000       0.000000  \n",
              "25%         0.000000       0.000000       0.000000       0.000000  \n",
              "50%         0.000000       0.000000       0.000000       0.000000  \n",
              "75%         0.000000       0.000000       0.000000       1.000000  \n",
              "max         1.000000       1.000000       1.000000       1.000000  "
            ]
          },
          "metadata": {},
          "execution_count": 81
        }
      ]
    },
    {
      "cell_type": "markdown",
      "metadata": {
        "id": "PDZ6uqkODx_V"
      },
      "source": [
        "Now time to make some plot to investigate more..."
      ]
    },
    {
      "cell_type": "markdown",
      "metadata": {
        "id": "1rBIHZ4lz0XP"
      },
      "source": [
        "##**Part 3**"
      ]
    },
    {
      "cell_type": "markdown",
      "metadata": {
        "id": "KoQsKH4fzlQK"
      },
      "source": [
        "###**Data Visulaization**"
      ]
    },
    {
      "cell_type": "code",
      "metadata": {
        "colab": {
          "base_uri": "https://localhost:8080/",
          "height": 687
        },
        "id": "GES1gJyC0Ddl",
        "outputId": "1aafd54a-a18e-40e0-fbdb-8bb366cf3110"
      },
      "source": [
        "plt.figure(figsize=(12,12))\n",
        "correlation = df.corr()\n",
        "sns.heatmap(correlation, vmax=1, cbar=True, annot=True, square=True, fmt='.2f', annot_kws={'size': 16});"
      ],
      "execution_count": 82,
      "outputs": [
        {
          "output_type": "display_data",
          "data": {
            "image/png": "[encoded data removed]",
            "text/plain": [
              "<Figure size 864x864 with 2 Axes>"
            ]
          },
          "metadata": {}
        }
      ]
    },
    {
      "cell_type": "markdown",
      "metadata": {
        "id": "uDbClqwSOFl2"
      },
      "source": [
        "From this plot I can see that some strong relationships between features like time until visit and smsreceived or between some other features like Hypertension and Age but for our EDA we need just to figure out these inctences when modlling as it will be not a good features (together) for the target value(visit)."
      ]
    },
    {
      "cell_type": "markdown",
      "metadata": {
        "id": "2huGmPU4GUBn"
      },
      "source": [
        "\n",
        "\n",
        "---\n",
        "\n"
      ]
    },
    {
      "cell_type": "code",
      "metadata": {
        "colab": {
          "base_uri": "https://localhost:8080/",
          "height": 404
        },
        "id": "lT_bqEu4iRiE",
        "outputId": "ab3af463-5e8a-4060-93e2-bdc09e417f51"
      },
      "source": [
        "plt.figure(figsize=(10,6))\n",
        "ax = sns.countplot(x=df.visit, data=df)\n",
        "ax.set_title(\"visit/novisit Patients\")\n",
        "plt.show()"
      ],
      "execution_count": 83,
      "outputs": [
        {
          "output_type": "display_data",
          "data": {
            "image/png": "[encoded data removed]",
            "text/plain": [
              "<Figure size 720x432 with 1 Axes>"
            ]
          },
          "metadata": {}
        }
      ]
    },
    {
      "cell_type": "markdown",
      "metadata": {
        "id": "VUNKFhr8ivLB"
      },
      "source": [
        "- It is clear that we're dealing with imbalance dataset/target."
      ]
    },
    {
      "cell_type": "code",
      "metadata": {
        "id": "WqlqJbK_0DUD",
        "colab": {
          "base_uri": "https://localhost:8080/",
          "height": 404
        },
        "outputId": "e8e6fbb5-3772-49b9-fd5f-bc5445eb0995"
      },
      "source": [
        "plt.figure(figsize=(10,6))\n",
        "ax = sns.countplot(x=df.Gender, hue=df.visit, data=df)\n",
        "ax.set_title(\"visit/Novisit for Females and Males\")\n",
        "x_ticks_labels=['Female', 'Male']\n",
        "ax.set_xticklabels(x_ticks_labels)\n",
        "plt.show()"
      ],
      "execution_count": 84,
      "outputs": [
        {
          "output_type": "display_data",
          "data": {
            "image/png": "[encoded data removed]",
            "text/plain": [
              "<Figure size 720x432 with 1 Axes>"
            ]
          },
          "metadata": {}
        }
      ]
    },
    {
      "cell_type": "markdown",
      "metadata": {
        "id": "hpDWUppFO-zY"
      },
      "source": [
        "From the above graph we can clearly see that 'Female' patients usually have more appointments than 'Male' patients. But if we closely look at the visit distribution across Male and Female it is almost the same. So, Gender may not play an important role in determining if a patient comes for a visit or not."
      ]
    },
    {
      "cell_type": "code",
      "metadata": {
        "colab": {
          "base_uri": "https://localhost:8080/",
          "height": 404
        },
        "id": "PtzPHv-yhETp",
        "outputId": "1b3749fb-6d38-48f8-a3c3-32ffb0c1fcb9"
      },
      "source": [
        "plt.figure(figsize=(10,6))\n",
        "ax = sns.countplot(x=df.Diabetes, hue=df.visit, data=df)\n",
        "ax.set_title(\"visit/Novisit for Diabetes\")\n",
        "x_ticks_labels=['No Diabetes', 'Diabetes']\n",
        "ax.set_xticklabels(x_ticks_labels)\n",
        "plt.show()"
      ],
      "execution_count": 86,
      "outputs": [
        {
          "output_type": "display_data",
          "data": {
            "image/png": "[encoded data removed]",
            "text/plain": [
              "<Figure size 720x432 with 1 Axes>"
            ]
          },
          "metadata": {}
        }
      ]
    },
    {
      "cell_type": "code",
      "metadata": {
        "colab": {
          "base_uri": "https://localhost:8080/",
          "height": 404
        },
        "id": "pQFTMjkTkZZw",
        "outputId": "ce86c988-889c-4c5e-9b61-abd6c0adcc17"
      },
      "source": [
        "plt.figure(figsize=(10,6))\n",
        "Diabetes_ratio = df[df.visit == 'No'].groupby(['Diabetes']).size()/df.groupby(['Diabetes']).size()\n",
        "ax = sns.barplot(x=Diabetes_ratio.index, y=Diabetes_ratio, palette=\"mako\")\n",
        "ax.set_title(\"visit Percentage for Diabetes\")\n",
        "x_ticks_labels=['No Diabetes', 'Diabetes']\n",
        "ax.set_xticklabels(x_ticks_labels)\n",
        "plt.show()"
      ],
      "execution_count": 87,
      "outputs": [
        {
          "output_type": "display_data",
          "data": {
            "image/png": "[encoded data removed]",
            "text/plain": [
              "<Figure size 720x432 with 1 Axes>"
            ]
          },
          "metadata": {}
        }
      ]
    },
    {
      "cell_type": "markdown",
      "metadata": {
        "id": "ZmGJZkcMmfQL"
      },
      "source": [
        "From the above visualization we can see that there are around 80% without Diabetes, have come for the visit.\n",
        "on the other hand pepole with Diabetes around 83% of them have come for the visit.\n",
        "So, Diabetes feature could be a good feature to use."
      ]
    },
    {
      "cell_type": "code",
      "metadata": {
        "colab": {
          "base_uri": "https://localhost:8080/",
          "height": 404
        },
        "id": "CmqnL6XTY2Z-",
        "outputId": "a4e56d48-91f1-4867-d801-2223e5a61ac6"
      },
      "source": [
        "plt.figure(figsize=(10,6))\n",
        "ax = sns.countplot(x=df.Scholarship, hue=df.visit, data=df)\n",
        "ax.set_title(\"visit/novisit for Scholarship\")\n",
        "x_ticks_labels=['No Scholarship', 'Scholarship']\n",
        "ax.set_xticklabels(x_ticks_labels)\n",
        "plt.show()"
      ],
      "execution_count": 88,
      "outputs": [
        {
          "output_type": "display_data",
          "data": {
            "image/png": "[encoded data removed]",
            "text/plain": [
              "<Figure size 720x432 with 1 Axes>"
            ]
          },
          "metadata": {}
        }
      ]
    },
    {
      "cell_type": "code",
      "metadata": {
        "colab": {
          "base_uri": "https://localhost:8080/",
          "height": 404
        },
        "id": "H7wOX5nMZGrY",
        "outputId": "8e2d1179-18e4-4ef3-feb0-374fa559f56d"
      },
      "source": [
        "plt.figure(figsize=(10,6))\n",
        "scholarshipratio = df[df.visit == 'No'].groupby(['Scholarship']).size()/df.groupby(['Scholarship']).size()\n",
        "ax = sns.barplot(x=scholarshipratio.index, y=scholarshipratio, palette=\"mako\")\n",
        "ax.set_title(\"visit Percentage for Scholarship\")\n",
        "x_ticks_labels=['No Scholarship', 'Scholarship']\n",
        "ax.set_xticklabels(x_ticks_labels)\n",
        "plt.show()"
      ],
      "execution_count": 89,
      "outputs": [
        {
          "output_type": "display_data",
          "data": {
            "image/png": "[encoded data removed]",
            "text/plain": [
              "<Figure size 720x432 with 1 Axes>"
            ]
          },
          "metadata": {}
        }
      ]
    },
    {
      "cell_type": "code",
      "metadata": {
        "colab": {
          "base_uri": "https://localhost:8080/",
          "height": 404
        },
        "id": "c7lD7tvfHAGW",
        "outputId": "4b18422e-5fa0-4fe9-d17e-97793eb48064"
      },
      "source": [
        "plt.figure(figsize=(10,6))\n",
        "ax = sns.countplot(x=df.Hypertension, hue=df.visit, data=df)\n",
        "ax.set_title(\"visit/Novisit for Hypertension\")\n",
        "x_ticks_labels=['No Hypertension', 'Hypertension']\n",
        "ax.set_xticklabels(x_ticks_labels)\n",
        "plt.show()"
      ],
      "execution_count": 90,
      "outputs": [
        {
          "output_type": "display_data",
          "data": {
            "image/png": "[encoded data removed]",
            "text/plain": [
              "<Figure size 720x432 with 1 Axes>"
            ]
          },
          "metadata": {}
        }
      ]
    },
    {
      "cell_type": "markdown",
      "metadata": {
        "id": "5oUiXFpjQq76"
      },
      "source": [
        "Hypertension shows that number of no hypertension that didn't come is larger but feels the same proprtion."
      ]
    },
    {
      "cell_type": "code",
      "metadata": {
        "colab": {
          "base_uri": "https://localhost:8080/",
          "height": 404
        },
        "id": "80Usz-6z0DNq",
        "outputId": "8c362a87-f981-4020-ba2f-5fe469854548"
      },
      "source": [
        "plt.figure(figsize=(10,6))\n",
        "ax = sns.countplot(x=df.Handicap, hue=df.visit, data=df)\n",
        "ax.set_title(\"visit/Novisit for Handicap\")\n",
        "x_ticks_labels=['No Handicap', 'Handicap']\n",
        "ax.set_xticklabels(x_ticks_labels)\n",
        "plt.show()"
      ],
      "execution_count": 91,
      "outputs": [
        {
          "output_type": "display_data",
          "data": {
            "image/png": "[encoded data removed]",
            "text/plain": [
              "<Figure size 720x432 with 1 Axes>"
            ]
          },
          "metadata": {}
        }
      ]
    },
    {
      "cell_type": "code",
      "metadata": {
        "colab": {
          "base_uri": "https://localhost:8080/",
          "height": 404
        },
        "id": "3lD3NhAu0Y24",
        "outputId": "53dcce1a-4ac3-42a1-c2db-2b29bcf9c4bb"
      },
      "source": [
        "plt.figure(figsize=(10,6))\n",
        "smsratio = df[df.visit == 'No'].groupby(['Handicap']).size()/df.groupby(['Handicap']).size()\n",
        "ax = sns.barplot(x=smsratio.index, y=smsratio, palette=\"mako\")\n",
        "ax.set_title(\"visit Percentage for Handicap\")\n",
        "x_ticks_labels=['No Handicap', 'Handicap']\n",
        "ax.set_xticklabels(x_ticks_labels)\n",
        "plt.show()"
      ],
      "execution_count": 92,
      "outputs": [
        {
          "output_type": "display_data",
          "data": {
            "image/png": "[encoded data removed]",
            "text/plain": [
              "<Figure size 720x432 with 1 Axes>"
            ]
          },
          "metadata": {}
        }
      ]
    },
    {
      "cell_type": "markdown",
      "metadata": {
        "id": "mOxjJb6dSL5M"
      },
      "source": [
        "**Handicap features after editing it with has Handicap or not as boolean shows that with pepole with Handicap have higher probability to visit.. good feature too I reckon.**"
      ]
    },
    {
      "cell_type": "code",
      "metadata": {
        "colab": {
          "base_uri": "https://localhost:8080/"
        },
        "id": "VRYGRw8kxKYe",
        "outputId": "da9d1e5f-16de-40bb-d42a-a761587911b5"
      },
      "source": [
        "df.Handicap.value_counts()"
      ],
      "execution_count": 46,
      "outputs": [
        {
          "output_type": "execute_result",
          "data": {
            "text/plain": [
              "0    42323\n",
              "1      867\n",
              "Name: Handicap, dtype: int64"
            ]
          },
          "metadata": {},
          "execution_count": 46
        }
      ]
    },
    {
      "cell_type": "code",
      "metadata": {
        "colab": {
          "base_uri": "https://localhost:8080/",
          "height": 404
        },
        "id": "AWYNglxWQeQ-",
        "outputId": "66324311-ddc5-46d5-8cfe-38ffac6badb1"
      },
      "source": [
        "plt.figure(figsize=(10,6))\n",
        "ax = sns.countplot(x=df.SMSReceived, hue=df.visit, data=df)\n",
        "ax.set_title(\"visit/Novisit for SMSReceived\")\n",
        "x_ticks_labels=['No SMSReceived', 'SMSReceived']\n",
        "ax.set_xticklabels(x_ticks_labels)\n",
        "plt.show()"
      ],
      "execution_count": 93,
      "outputs": [
        {
          "output_type": "display_data",
          "data": {
            "image/png": "[encoded data removed]",
            "text/plain": [
              "<Figure size 720x432 with 1 Axes>"
            ]
          },
          "metadata": {}
        }
      ]
    },
    {
      "cell_type": "code",
      "metadata": {
        "colab": {
          "base_uri": "https://localhost:8080/",
          "height": 404
        },
        "id": "gMkromMfyTpf",
        "outputId": "b02669a4-a464-4775-c1bc-bc3209daf1df"
      },
      "source": [
        "plt.figure(figsize=(10,6))\n",
        "smsratio = df[df.visit == 'No'].groupby(['SMSReceived']).size()/df.groupby(['SMSReceived']).size()\n",
        "ax = sns.barplot(x=smsratio.index, y=smsratio, palette=\"mako\")\n",
        "ax.set_title(\"visit Percentage for SMSReceived\")\n",
        "x_ticks_labels=['No SMSReceived', 'SMSReceived']\n",
        "ax.set_xticklabels(x_ticks_labels)\n",
        "plt.show()"
      ],
      "execution_count": 94,
      "outputs": [
        {
          "output_type": "display_data",
          "data": {
            "image/png": "[encoded data removed]",
            "text/plain": [
              "<Figure size 720x432 with 1 Axes>"
            ]
          },
          "metadata": {}
        }
      ]
    },
    {
      "cell_type": "markdown",
      "metadata": {
        "id": "5NqAa5JESIHj"
      },
      "source": [
        "**As can be seen the SMSReceived has a good indication that people who don't receive the SMS are more likely to not come by a large portion almost 90%. on the other hand when receiving the SMS have almost 72% and I think the time difference plays a role here as to when receiving the sms and how close the appointment to the day it was booked. It is one of the good features..**"
      ]
    },
    {
      "cell_type": "code",
      "metadata": {
        "colab": {
          "base_uri": "https://localhost:8080/",
          "height": 404
        },
        "id": "bkofC91xQ4vK",
        "outputId": "f9fca1c7-bfc9-4667-a23c-43b99e150f31"
      },
      "source": [
        "plt.figure(figsize=(10,6))\n",
        "ax = sns.countplot(x=df.Alcoholism, hue=df.visit, data=df)\n",
        "ax.set_title(\"visit/Novisit for Alcoholism\")\n",
        "x_ticks_labels=['NoAlcoholism', 'Alcoholism']\n",
        "ax.set_xticklabels(x_ticks_labels)\n",
        "plt.show()"
      ],
      "execution_count": 95,
      "outputs": [
        {
          "output_type": "display_data",
          "data": {
            "image/png": "[encoded data removed]",
            "text/plain": [
              "<Figure size 720x432 with 1 Axes>"
            ]
          },
          "metadata": {}
        }
      ]
    },
    {
      "cell_type": "code",
      "metadata": {
        "colab": {
          "base_uri": "https://localhost:8080/",
          "height": 404
        },
        "id": "DIV1uAtqrmie",
        "outputId": "e633bd29-a2c6-4d34-bc71-a034f8432943"
      },
      "source": [
        "plt.figure(figsize=(10,6))\n",
        "df_a_ratio = df[df.visit == 'No'].groupby(['Alcoholism']).size()/df.groupby(['Alcoholism']).size()\n",
        "ax = sns.barplot(x=df_a_ratio.index, y=df_a_ratio, palette=\"mako\")\n",
        "ax.set_title(\"visit Percentage for Alcoholism\")\n",
        "x_ticks_labels=['No Alcoholism', 'Alcoholism']\n",
        "ax.set_xticklabels(x_ticks_labels)\n",
        "plt.show()"
      ],
      "execution_count": 96,
      "outputs": [
        {
          "output_type": "display_data",
          "data": {
            "image/png": "[encoded data removed]",
            "text/plain": [
              "<Figure size 720x432 with 1 Axes>"
            ]
          },
          "metadata": {}
        }
      ]
    },
    {
      "cell_type": "markdown",
      "metadata": {
        "id": "o4YTroP6sRFp"
      },
      "source": [
        "From the above graph we can see that there are 80%  without Alcoholism have come for the visit. with Alcoholism around 80% of them have come for the visit. There are no differences so it will not help as a feature."
      ]
    },
    {
      "cell_type": "code",
      "metadata": {
        "colab": {
          "base_uri": "https://localhost:8080/",
          "height": 839
        },
        "id": "96dd6Gp20CwT",
        "outputId": "e889f12e-efa0-4690-dd09-5ca5f1cb0862"
      },
      "source": [
        "plt.figure(figsize=(10,14))\n",
        "time_until_visit_sorted = np.sort(df.time_until_visit.unique())\n",
        "ax = sns.countplot(y=df.time_until_visit, hue=df.visit, order = time_until_visit_sorted[0:25])\n",
        "ax.set_title(\"visit/Novisit Count for time that between ScheduledDay and AppointmentDay in Days \")\n",
        "plt.show()"
      ],
      "execution_count": 97,
      "outputs": [
        {
          "output_type": "display_data",
          "data": {
            "image/png": "[encoded data removed]",
            "text/plain": [
              "<Figure size 720x1008 with 1 Axes>"
            ]
          },
          "metadata": {}
        }
      ]
    },
    {
      "cell_type": "markdown",
      "metadata": {
        "id": "Wa901Tm_V3cR"
      },
      "source": [
        "It is clear that patients who had their appointement in the same day for some reasons didn't come... I think they had to wait for longer time in hours.. the longer the time to visit, less numbers of patients would be keen on thier appointments.."
      ]
    },
    {
      "cell_type": "code",
      "metadata": {
        "colab": {
          "base_uri": "https://localhost:8080/",
          "height": 298
        },
        "id": "tOxFMMf6WMe0",
        "outputId": "2c7d0060-955e-4129-91c3-600128916ea0"
      },
      "source": [
        "plt.figure(figsize=(30,4))\n",
        "plt.xticks(rotation=90)\n",
        "ax = sns.countplot(x=df.Age, hue=df.visit, palette=\"rocket\")\n",
        "ax.set_title(\"visit Appointments by Age\")\n",
        "plt.show()"
      ],
      "execution_count": 52,
      "outputs": [
        {
          "output_type": "display_data",
          "data": {
            "image/png": "[encoded data removed]",
            "text/plain": [
              "<Figure size 2160x288 with 1 Axes>"
            ]
          },
          "metadata": {}
        }
      ]
    },
    {
      "cell_type": "markdown",
      "metadata": {
        "id": "cEuONU6SVGSJ"
      },
      "source": [
        "\n",
        "\n",
        "---\n",
        "\n",
        "\n",
        "\n",
        "- ### **conclusion**   \n",
        "######  Some Features have a good relation when modelling from the visual graphs such as Handicap, SMSReceived, and Age that could help us when using aolgrithms but needed further analysis with some feature engineering.\n",
        "\n",
        "##### So, As for my questions I can now with a confidence answer them with the aid of visulaization part as follows:    \n",
        "1. What is/are most effective features I come up with?\n",
        "\n",
        "- Handicap, Smsreceived, time until visit, Scholarship,Hypertension and Diabetes are the most effective.\n",
        "\n",
        "2.  Does the difference time between the Scheduled Day feature and Appointment Day feature matter?\n",
        "\n",
        "- Yes I think the closer the time (same day) the visit become harder and the longer wait time in the same day is an issue. on the other hand the longer the time in days/ monthes without SMS could also contrbuite.\n",
        "\n",
        "3.  Does Gender contribute to the game?\n",
        "\n",
        "- Gender shows no difference as to visit or not.\n",
        "\n",
        "I therefor would recommend that healthcare sector manage their appointment system be scdualed better in terms of the waiting time in the same day or even longer times with the aid of sms texting to help remind the patints before the due time i.e. a week before the due date to alert them. Also, to highly consider giving people with chronic diseases a special cases for the appointments.\n",
        "\n"
      ]
    }
  ]
}